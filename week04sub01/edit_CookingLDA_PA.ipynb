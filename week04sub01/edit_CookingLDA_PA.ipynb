{
 "cells": [
  {
   "cell_type": "markdown",
   "metadata": {},
   "source": [
    "# Programming Assignment: \n",
    "## Готовим LDA по рецептам"
   ]
  },
  {
   "cell_type": "markdown",
   "metadata": {},
   "source": [
    "Как вы уже знаете, в тематическом моделировании делается предположение о том, что для определения тематики порядок слов в документе не важен; об этом гласит гипотеза «мешка слов». Сегодня мы будем работать с несколько нестандартной для тематического моделирования коллекцией, которую можно назвать «мешком ингредиентов», потому что на состоит из рецептов блюд разных кухонь. Тематические модели ищут слова, которые часто вместе встречаются в документах, и составляют из них темы. Мы попробуем применить эту идею к рецептам и найти кулинарные «темы». Эта коллекция хороша тем, что не требует предобработки. Кроме того, эта задача достаточно наглядно иллюстрирует принцип работы тематических моделей.\n",
    "\n",
    "Для выполнения заданий, помимо часто используемых в курсе библиотек, потребуются модули *json* и *gensim*. Первый входит в дистрибутив Anaconda, второй можно поставить командой \n",
    "\n",
    "*pip install gensim*\n",
    "\n",
    "Построение модели занимает некоторое время. На ноутбуке с процессором Intel Core i7 и тактовой частотой 2400 МГц на построение одной модели уходит менее 10 минут."
   ]
  },
  {
   "cell_type": "markdown",
   "metadata": {},
   "source": [
    "### Загрузка данных"
   ]
  },
  {
   "cell_type": "markdown",
   "metadata": {},
   "source": [
    "Коллекция дана в json-формате: для каждого рецепта известны его id, кухня (cuisine) и список ингредиентов, в него входящих. Загрузить данные можно с помощью модуля json (он входит в дистрибутив Anaconda):"
   ]
  },
  {
   "cell_type": "code",
   "execution_count": 1,
   "metadata": {},
   "outputs": [],
   "source": [
    "import json"
   ]
  },
  {
   "cell_type": "code",
   "execution_count": 2,
   "metadata": {},
   "outputs": [],
   "source": [
    "with open(\"recipes.json\") as f:\n",
    "    recipes = json.load(f)"
   ]
  },
  {
   "cell_type": "code",
   "execution_count": 3,
   "metadata": {},
   "outputs": [
    {
     "name": "stdout",
     "output_type": "stream",
     "text": [
      "{u'cuisine': u'greek', u'id': 10259, u'ingredients': [u'romaine lettuce', u'black olives', u'grape tomatoes', u'garlic', u'pepper', u'purple onion', u'seasoning', u'garbanzo beans', u'feta cheese crumbles']}\n"
     ]
    }
   ],
   "source": [
    "print recipes[0]"
   ]
  },
  {
   "cell_type": "markdown",
   "metadata": {},
   "source": [
    "### Составление корпуса"
   ]
  },
  {
   "cell_type": "code",
   "execution_count": 4,
   "metadata": {},
   "outputs": [],
   "source": [
    "from gensim import corpora, models\n",
    "import numpy as np"
   ]
  },
  {
   "cell_type": "markdown",
   "metadata": {},
   "source": [
    "Наша коллекция небольшая, и целиком помещается в оперативную память. Gensim может работать с такими данными и не требует их сохранения на диск в специальном формате. Для этого коллекция должна быть представлена в виде списка списков, каждый внутренний список соответствует отдельному документу и состоит из его слов. Пример коллекции из двух документов: \n",
    "\n",
    "[[\"hello\", \"world\"], [\"programming\", \"in\", \"python\"]]\n",
    "\n",
    "Преобразуем наши данные в такой формат, а затем создадим объекты corpus и dictionary, с которыми будет работать модель."
   ]
  },
  {
   "cell_type": "code",
   "execution_count": 5,
   "metadata": {},
   "outputs": [],
   "source": [
    "texts = [recipe[\"ingredients\"] for recipe in recipes]\n",
    "dictionary = corpora.Dictionary(texts)   # составляем словарь\n",
    "corpus = [dictionary.doc2bow(text) for text in texts]  # составляем корпус документов"
   ]
  },
  {
   "cell_type": "code",
   "execution_count": 6,
   "metadata": {},
   "outputs": [
    {
     "name": "stdout",
     "output_type": "stream",
     "text": [
      "[u'romaine lettuce', u'black olives', u'grape tomatoes', u'garlic', u'pepper', u'purple onion', u'seasoning', u'garbanzo beans', u'feta cheese crumbles']\n",
      "[(0, 1), (1, 1), (2, 1), (3, 1), (4, 1), (5, 1), (6, 1), (7, 1), (8, 1)]\n"
     ]
    }
   ],
   "source": [
    "print texts[0]\n",
    "print corpus[0]"
   ]
  },
  {
   "cell_type": "markdown",
   "metadata": {},
   "source": [
    "У объекта dictionary есть полезная переменная dictionary.token2id, позволяющая находить соответствие между ингредиентами и их индексами."
   ]
  },
  {
   "cell_type": "markdown",
   "metadata": {},
   "source": [
    "### Обучение модели\n",
    "Вам может понадобиться [документация](https://radimrehurek.com/gensim/models/ldamodel.html) LDA в gensim."
   ]
  },
  {
   "cell_type": "markdown",
   "metadata": {},
   "source": [
    "__Задание 1.__ Обучите модель LDA с 40 темами, установив количество проходов по коллекции 5 и оставив остальные параметры по умолчанию. \n",
    "\n",
    "\n",
    "Затем вызовите метод модели *show_topics*, указав количество тем 40 и количество токенов 10, и сохраните результат (топы ингредиентов в темах) в отдельную переменную. Если при вызове метода *show_topics* указать параметр *formatted=True*, то топы ингредиентов будет удобно выводить на печать, если *formatted=False*, будет удобно работать со списком программно. Выведите топы на печать, рассмотрите темы, а затем ответьте на вопрос:\n",
    "\n",
    "Сколько раз ингредиенты \"salt\", \"sugar\", \"water\", \"mushrooms\", \"chicken\", \"eggs\" встретились среди топов-10 всех 40 тем? При ответе __не нужно__ учитывать составные ингредиенты, например, \"hot water\".\n",
    "\n",
    "Передайте 6 чисел в функцию save_answers1 и загрузите сгенерированный файл в форму.\n",
    "\n",
    "У gensim нет возможности фиксировать случайное приближение через параметры метода, но библиотека использует numpy для инициализации матриц. Поэтому, по утверждению автора библиотеки, фиксировать случайное приближение нужно командой, которая написана в следующей ячейке. __Перед строкой кода с построением модели обязательно вставляйте указанную строку фиксации random.seed.__"
   ]
  },
  {
   "cell_type": "code",
   "execution_count": 7,
   "metadata": {
    "scrolled": true
   },
   "outputs": [
    {
     "data": {
      "text/plain": [
       "[(0,\n",
       "  u'0.080*\"salt\" + 0.075*\"garlic cloves\" + 0.070*\"olive oil\" + 0.061*\"cooking spray\" + 0.045*\"crushed red pepper\" + 0.043*\"fat free less sodium chicken broth\" + 0.035*\"black pepper\" + 0.034*\"water\" + 0.031*\"ground black pepper\" + 0.025*\"arborio rice\"'),\n",
       " (1,\n",
       "  u'0.088*\"carrots\" + 0.064*\"sauce\" + 0.064*\"cabbage\" + 0.059*\"onions\" + 0.044*\"beef\" + 0.037*\"low sodium chicken broth\" + 0.035*\"noodles\" + 0.031*\"green cabbage\" + 0.029*\"water\" + 0.028*\"shiitake\"'),\n",
       " (2,\n",
       "  u'0.066*\"cracked black pepper\" + 0.059*\"dry red wine\" + 0.042*\"beef broth\" + 0.042*\"shortening\" + 0.039*\"grape tomatoes\" + 0.035*\"cilantro sprigs\" + 0.032*\"vegetable oil cooking spray\" + 0.031*\"french bread\" + 0.029*\"dried rosemary\" + 0.025*\"sun-dried tomatoes\"'),\n",
       " (3,\n",
       "  u'0.150*\"potatoes\" + 0.127*\"oil\" + 0.060*\"chickpeas\" + 0.059*\"salt\" + 0.042*\"onions\" + 0.038*\"coriander\" + 0.034*\"saffron\" + 0.033*\"pepper\" + 0.031*\"chopped tomatoes\" + 0.027*\"vegetables\"'),\n",
       " (4,\n",
       "  u'0.063*\"green bell pepper\" + 0.060*\"garlic powder\" + 0.058*\"cayenne pepper\" + 0.051*\"salt\" + 0.047*\"paprika\" + 0.034*\"onions\" + 0.034*\"dried thyme\" + 0.033*\"worcestershire sauce\" + 0.028*\"ground black pepper\" + 0.027*\"onion powder\"'),\n",
       " (5,\n",
       "  u'0.081*\"ground cumin\" + 0.051*\"salt\" + 0.050*\"ground coriander\" + 0.036*\"onions\" + 0.034*\"olive oil\" + 0.032*\"garlic\" + 0.027*\"tumeric\" + 0.026*\"paprika\" + 0.023*\"cayenne pepper\" + 0.022*\"garlic cloves\"'),\n",
       " (6,\n",
       "  u'0.111*\"ground cinnamon\" + 0.085*\"ground nutmeg\" + 0.056*\"honey\" + 0.048*\"raisins\" + 0.046*\"ground allspice\" + 0.046*\"ground cloves\" + 0.043*\"light brown sugar\" + 0.043*\"brown sugar\" + 0.029*\"margarine\" + 0.029*\"ground ginger\"'),\n",
       " (7,\n",
       "  u'0.083*\"fresh basil\" + 0.083*\"zucchini\" + 0.078*\"plum tomatoes\" + 0.074*\"olive oil\" + 0.045*\"eggplant\" + 0.042*\"salt\" + 0.033*\"garlic cloves\" + 0.032*\"grated parmesan cheese\" + 0.029*\"red bell pepper\" + 0.028*\"spaghetti\"'),\n",
       " (8,\n",
       "  u'0.090*\"rice\" + 0.080*\"cooking oil\" + 0.063*\"salt\" + 0.058*\"water\" + 0.052*\"basmati rice\" + 0.051*\"vinegar\" + 0.044*\"ginger\" + 0.037*\"curry leaves\" + 0.029*\"mint leaves\" + 0.024*\"red cabbage\"'),\n",
       " (9,\n",
       "  u'0.085*\"dried oregano\" + 0.073*\"onions\" + 0.061*\"garlic\" + 0.059*\"tomato sauce\" + 0.055*\"ground beef\" + 0.053*\"diced tomatoes\" + 0.048*\"salt\" + 0.045*\"dried basil\" + 0.040*\"tomato paste\" + 0.033*\"water\"'),\n",
       " (10,\n",
       "  u'0.053*\"white wine\" + 0.047*\"ground black pepper\" + 0.040*\"russet potatoes\" + 0.035*\"butter\" + 0.033*\"chopped fresh chives\" + 0.029*\"red potato\" + 0.029*\"ham\" + 0.027*\"kosher salt\" + 0.022*\"cr\\xe8me fra\\xeeche\" + 0.021*\"large eggs\"'),\n",
       " (11,\n",
       "  u'0.068*\"jalapeno chilies\" + 0.065*\"salt\" + 0.051*\"avocado\" + 0.042*\"lime\" + 0.037*\"purple onion\" + 0.035*\"garlic\" + 0.033*\"olive oil\" + 0.033*\"lime juice\" + 0.032*\"cilantro\" + 0.032*\"fresh cilantro\"'),\n",
       " (12,\n",
       "  u'0.131*\"cucumber\" + 0.069*\"lean ground beef\" + 0.051*\"cherry tomatoes\" + 0.045*\"cider vinegar\" + 0.044*\"feta cheese\" + 0.039*\"romaine lettuce\" + 0.039*\"lemon wedge\" + 0.034*\"cream\" + 0.030*\"chili\" + 0.027*\"taco seasoning mix\"'),\n",
       " (13,\n",
       "  u'0.089*\"sour cream\" + 0.056*\"salsa\" + 0.049*\"shredded cheddar cheese\" + 0.048*\"flour tortillas\" + 0.040*\"chili powder\" + 0.040*\"black beans\" + 0.034*\"green onions\" + 0.032*\"ground cumin\" + 0.026*\"cheddar cheese\" + 0.024*\"cream cheese\"'),\n",
       " (14,\n",
       "  u'0.102*\"white sugar\" + 0.088*\"sweet potatoes\" + 0.061*\"fresh mint\" + 0.051*\"black peppercorns\" + 0.048*\"fennel seeds\" + 0.038*\"red wine\" + 0.033*\"vegetable stock\" + 0.023*\"maple syrup\" + 0.022*\"garlic chili sauce\" + 0.022*\"sugar\"'),\n",
       " (15,\n",
       "  u'0.090*\"cinnamon sticks\" + 0.090*\"cold water\" + 0.057*\"boiling water\" + 0.042*\"sugar\" + 0.042*\"star anise\" + 0.033*\"slivered almonds\" + 0.030*\"apple cider vinegar\" + 0.029*\"cake flour\" + 0.027*\"panko breadcrumbs\" + 0.026*\"green olives\"'),\n",
       " (16,\n",
       "  u'0.099*\"extra-virgin olive oil\" + 0.064*\"garlic cloves\" + 0.054*\"olive oil\" + 0.047*\"fresh lemon juice\" + 0.043*\"flat leaf parsley\" + 0.039*\"salt\" + 0.038*\"dry white wine\" + 0.037*\"freshly ground pepper\" + 0.033*\"ground black pepper\" + 0.032*\"kosher salt\"'),\n",
       " (17,\n",
       "  u'0.149*\"coconut milk\" + 0.057*\"parsley\" + 0.049*\"thyme\" + 0.047*\"chicken thighs\" + 0.036*\"coconut oil\" + 0.032*\"garlic\" + 0.026*\"Thai red curry paste\" + 0.026*\"bread\" + 0.025*\"onions\" + 0.018*\"red curry paste\"'),\n",
       " (18,\n",
       "  u'0.108*\"salt\" + 0.097*\"all-purpose flour\" + 0.087*\"eggs\" + 0.081*\"milk\" + 0.076*\"butter\" + 0.053*\"baking powder\" + 0.051*\"sugar\" + 0.039*\"flour\" + 0.032*\"baking soda\" + 0.028*\"buttermilk\"'),\n",
       " (19,\n",
       "  u'0.123*\"curry powder\" + 0.111*\"boneless skinless chicken breast halves\" + 0.065*\"frozen peas\" + 0.059*\"long-grain rice\" + 0.048*\"sweetened condensed milk\" + 0.042*\"greek yogurt\" + 0.032*\"egg whites\" + 0.029*\"cauliflower\" + 0.027*\"cardamom pods\" + 0.024*\"ground cayenne pepper\"'),\n",
       " (20,\n",
       "  u'0.045*\"ground white pepper\" + 0.041*\"peanut oil\" + 0.038*\"beansprouts\" + 0.036*\"Sriracha\" + 0.034*\"medium shrimp\" + 0.033*\"rice noodles\" + 0.032*\"peanuts\" + 0.031*\"fish sauce\" + 0.027*\"minced ginger\" + 0.025*\"english cucumber\"'),\n",
       " (21,\n",
       "  u'0.148*\"mayonaise\" + 0.105*\"coarse salt\" + 0.066*\"ground pepper\" + 0.059*\"sweet onion\" + 0.041*\"pork tenderloin\" + 0.037*\"minced garlic\" + 0.036*\"juice\" + 0.035*\"minced onion\" + 0.031*\"dried parsley\" + 0.028*\"ketchup\"'),\n",
       " (22,\n",
       "  u'0.078*\"diced onions\" + 0.053*\"lettuce\" + 0.053*\"self rising flour\" + 0.049*\"shredded cheese\" + 0.047*\"provolone cheese\" + 0.030*\"iceberg lettuce\" + 0.027*\"frozen pastry puff sheets\" + 0.026*\"romano cheese\" + 0.024*\"semi-sweet chocolate morsels\" + 0.024*\"reduced-fat sour cream\"'),\n",
       " (23,\n",
       "  u'0.101*\"dijon mustard\" + 0.064*\"creole seasoning\" + 0.059*\"long grain white rice\" + 0.050*\"white pepper\" + 0.049*\"fresh orange juice\" + 0.047*\"nutmeg\" + 0.036*\"kale\" + 0.034*\"salmon fillets\" + 0.034*\"cream cheese, soften\" + 0.034*\"orange zest\"'),\n",
       " (24,\n",
       "  u'0.080*\"sugar\" + 0.073*\"whipping cream\" + 0.058*\"orange juice\" + 0.054*\"hot water\" + 0.050*\"chopped garlic\" + 0.050*\"orange\" + 0.033*\"bananas\" + 0.030*\"bread flour\" + 0.029*\"brandy\" + 0.028*\"egg yolks\"'),\n",
       " (25,\n",
       "  u'0.066*\"salt\" + 0.063*\"cumin seed\" + 0.053*\"onions\" + 0.044*\"ground turmeric\" + 0.041*\"green chilies\" + 0.041*\"garam masala\" + 0.040*\"clove\" + 0.031*\"chili powder\" + 0.031*\"tomatoes\" + 0.028*\"oil\"'),\n",
       " (26,\n",
       "  u'0.087*\"fish sauce\" + 0.049*\"white vinegar\" + 0.044*\"shallots\" + 0.042*\"sugar\" + 0.034*\"garlic\" + 0.033*\"vegetable oil\" + 0.033*\"lemongrass\" + 0.030*\"red chili peppers\" + 0.029*\"lime juice\" + 0.028*\"water\"'),\n",
       " (27,\n",
       "  u'0.106*\"grated parmesan cheese\" + 0.059*\"warm water\" + 0.049*\"salt\" + 0.048*\"shredded mozzarella cheese\" + 0.044*\"olive oil\" + 0.040*\"ricotta cheese\" + 0.039*\"active dry yeast\" + 0.038*\"mozzarella cheese\" + 0.033*\"italian seasoning\" + 0.030*\"eggs\"'),\n",
       " (28,\n",
       "  u'0.207*\"shrimp\" + 0.059*\"pork\" + 0.057*\"baby spinach\" + 0.035*\"jasmine rice\" + 0.034*\"fresh tomatoes\" + 0.033*\"unsweetened coconut milk\" + 0.032*\"black mustard seeds\" + 0.030*\"sausage casings\" + 0.026*\"sea scallops\" + 0.022*\"Thai fish sauce\"'),\n",
       " (29,\n",
       "  u'0.145*\"mushrooms\" + 0.090*\"white wine vinegar\" + 0.045*\"boneless chicken breast\" + 0.036*\"chopped fresh sage\" + 0.028*\"chorizo sausage\" + 0.028*\"blanched almonds\" + 0.026*\"chicken drumsticks\" + 0.024*\"ranch dressing\" + 0.024*\"pico de gallo\" + 0.023*\"crabmeat\"'),\n",
       " (30,\n",
       "  u'0.093*\"large eggs\" + 0.090*\"unsalted butter\" + 0.068*\"sugar\" + 0.056*\"salt\" + 0.051*\"all-purpose flour\" + 0.051*\"heavy cream\" + 0.038*\"whole milk\" + 0.035*\"granulated sugar\" + 0.033*\"vanilla extract\" + 0.029*\"large egg yolks\"'),\n",
       " (31,\n",
       "  u'0.107*\"chopped onion\" + 0.072*\"salt\" + 0.054*\"ground red pepper\" + 0.047*\"water\" + 0.045*\"finely chopped onion\" + 0.039*\"chopped celery\" + 0.032*\"garlic cloves\" + 0.027*\"green beans\" + 0.027*\"hot pepper sauce\" + 0.024*\"chopped green bell pepper\"'),\n",
       " (32,\n",
       "  u'0.065*\"fine sea salt\" + 0.056*\"water\" + 0.055*\"lemon zest\" + 0.053*\"fresh spinach\" + 0.045*\"yukon gold potatoes\" + 0.037*\"collard greens\" + 0.034*\"rice flour\" + 0.032*\"tofu\" + 0.031*\"parmigiano reggiano cheese\" + 0.030*\"dried shiitake mushrooms\"'),\n",
       " (33,\n",
       "  u'0.136*\"balsamic vinegar\" + 0.076*\"chopped fresh mint\" + 0.072*\"dark soy sauce\" + 0.064*\"baguette\" + 0.052*\"broccoli\" + 0.041*\"mint\" + 0.032*\"penne\" + 0.020*\"red kidney beans\" + 0.018*\"phyllo dough\" + 0.018*\"escarole\"'),\n",
       " (34,\n",
       "  u'0.091*\"onions\" + 0.084*\"salt\" + 0.068*\"garlic\" + 0.054*\"olive oil\" + 0.047*\"pepper\" + 0.041*\"ground black pepper\" + 0.037*\"bay leaves\" + 0.036*\"chicken stock\" + 0.035*\"chicken\" + 0.034*\"carrots\"'),\n",
       " (35,\n",
       "  u'0.097*\"soy sauce\" + 0.050*\"sesame oil\" + 0.042*\"sugar\" + 0.041*\"corn starch\" + 0.039*\"garlic\" + 0.037*\"green onions\" + 0.036*\"scallions\" + 0.034*\"rice vinegar\" + 0.030*\"water\" + 0.029*\"salt\"'),\n",
       " (36,\n",
       "  u'0.106*\"cheese\" + 0.063*\"garlic salt\" + 0.059*\"rice wine\" + 0.056*\"chives\" + 0.042*\"chicken breast halves\" + 0.040*\"shredded sharp cheddar cheese\" + 0.039*\"roasted peanuts\" + 0.037*\"Mexican cheese blend\" + 0.036*\"non-fat sour cream\" + 0.033*\"dashi\"'),\n",
       " (37,\n",
       "  u'0.184*\"chicken broth\" + 0.103*\"chicken breasts\" + 0.061*\"onions\" + 0.055*\"crushed red pepper flakes\" + 0.053*\"garlic\" + 0.039*\"pepper\" + 0.039*\"chopped parsley\" + 0.033*\"salt\" + 0.033*\"olive oil\" + 0.025*\"bay leaf\"'),\n",
       " (38,\n",
       "  u'0.066*\"red wine vinegar\" + 0.063*\"olive oil\" + 0.052*\"salt\" + 0.049*\"parmesan cheese\" + 0.044*\"fresh basil leaves\" + 0.039*\"garlic\" + 0.032*\"feta cheese crumbles\" + 0.031*\"extra-virgin olive oil\" + 0.030*\"pepper\" + 0.028*\"purple onion\"'),\n",
       " (39,\n",
       "  u'0.096*\"canola oil\" + 0.080*\"fresh lime juice\" + 0.063*\"chopped cilantro fresh\" + 0.057*\"garlic cloves\" + 0.052*\"kosher salt\" + 0.048*\"peeled fresh ginger\" + 0.029*\"vegetable oil\" + 0.027*\"serrano chile\" + 0.025*\"water\" + 0.025*\"chiles\"')]"
      ]
     },
     "execution_count": 7,
     "metadata": {},
     "output_type": "execute_result"
    }
   ],
   "source": [
    "np.random.seed(76543)\n",
    "# здесь код для построения модели:\n",
    "\n",
    "lda = models.LdaModel(corpus, num_topics=40, alpha='auto', passes=5, id2word=dictionary)\n",
    "\n",
    "lda.show_topics(formatted=True, num_topics=40, num_words=10)"
   ]
  },
  {
   "cell_type": "code",
   "execution_count": 8,
   "metadata": {},
   "outputs": [
    {
     "name": "stdout",
     "output_type": "stream",
     "text": [
      "[0, 0, 0, 0, 0, 0]\n"
     ]
    }
   ],
   "source": [
    "topics = lda.show_topics(num_topics=40, formatted=True)\n",
    "\n",
    "cnt = []\n",
    "for tok in [\"salt\", \"sugar\", \"water\", \"mushrooms\", \"chicken\", \"eggs\" ]:\n",
    "    tok_id = dictionary.token2id[tok]\n",
    "    qty = 0\n",
    "    for topic in topics:\n",
    "        if '\"%s\"'%tok_id in topic[1]:\n",
    "            qty += 1\n",
    "    cnt.append(qty)\n",
    "\n",
    "print cnt"
   ]
  },
  {
   "cell_type": "code",
   "execution_count": 9,
   "metadata": {},
   "outputs": [],
   "source": [
    "def save_answers1(c_salt, c_sugar, c_water, c_mushrooms, c_chicken, c_eggs):\n",
    "    with open(\"cooking_LDA_pa_task1.txt\", \"w\") as fout:\n",
    "        fout.write(\" \".join([str(el) for el in [c_salt, c_sugar, c_water, c_mushrooms, c_chicken, c_eggs]]))\n",
    "        \n",
    "save_answers1(*cnt)"
   ]
  },
  {
   "cell_type": "markdown",
   "metadata": {},
   "source": [
    "### Фильтрация словаря\n",
    "В топах тем гораздо чаще встречаются первые три рассмотренных ингредиента, чем последние три. При этом наличие в рецепте курицы, яиц и грибов яснее дает понять, что мы будем готовить, чем наличие соли, сахара и воды. Таким образом, даже в рецептах есть слова, часто встречающиеся в текстах и не несущие смысловой нагрузки, и поэтому их не желательно видеть в темах. Наиболее простой прием борьбы с такими фоновыми элементами — фильтрация словаря по частоте. Обычно словарь фильтруют с двух сторон: убирают очень редкие слова (в целях экономии памяти) и очень частые слова (в целях повышения интерпретируемости тем). Мы уберем только частые слова."
   ]
  },
  {
   "cell_type": "code",
   "execution_count": 10,
   "metadata": {},
   "outputs": [],
   "source": [
    "import copy\n",
    "dictionary2 = copy.deepcopy(dictionary)"
   ]
  },
  {
   "cell_type": "markdown",
   "metadata": {},
   "source": [
    "__Задание 2.__ У объекта dictionary2 есть переменная *dfs* — это словарь, ключами которого являются id токена, а элементами — число раз, сколько слово встретилось во всей коллекции. Сохраните в отдельный список ингредиенты, которые встретились в коллекции больше 4000 раз. Вызовите метод словаря *filter_tokens*, подав в качестве первого аргумента полученный список популярных ингредиентов. Вычислите две величины: dict_size_before и dict_size_after — размер словаря до и после фильтрации.\n",
    "\n",
    "Затем, используя новый словарь, создайте новый корпус документов, corpus2, по аналогии с тем, как это сделано в начале ноутбука. Вычислите две величины: corpus_size_before и corpus_size_after — суммарное количество ингредиентов в корпусе (для каждого документа вычислите число различных ингредиентов в нем и просуммируйте по всем документам) до и после фильтрации.\n",
    "\n",
    "Передайте величины dict_size_before, dict_size_after, corpus_size_before, corpus_size_after в функцию save_answers2 и загрузите сгенерированный файл в форму."
   ]
  },
  {
   "cell_type": "code",
   "execution_count": 11,
   "metadata": {},
   "outputs": [],
   "source": [
    "dictionary2 = copy.deepcopy(dictionary)\n",
    "\n",
    "new_tokens = {k:v for k, v in dictionary2.dfs.items() if v>4000}\n",
    "\n",
    "dict_size_before = len(dictionary2.dfs)\n",
    "corpus_size_before = sum(dictionary2.dfs.values())\n",
    "\n",
    "dictionary2.filter_tokens(new_tokens)\n",
    "corpus2 = [dictionary2.doc2bow(text) for text in texts] \n",
    "\n",
    "dict_size_after = len(dictionary2.dfs)\n",
    "corpus_size_after = sum(dictionary2.dfs.values())\n"
   ]
  },
  {
   "cell_type": "code",
   "execution_count": 12,
   "metadata": {},
   "outputs": [
    {
     "name": "stdout",
     "output_type": "stream",
     "text": [
      "6714 6702 428249 343665\n"
     ]
    }
   ],
   "source": [
    "print dict_size_before, dict_size_after, corpus_size_before, corpus_size_after"
   ]
  },
  {
   "cell_type": "code",
   "execution_count": 13,
   "metadata": {},
   "outputs": [],
   "source": [
    "def save_answers2(dict_size_before, dict_size_after, corpus_size_before, corpus_size_after):\n",
    "    with open(\"cooking_LDA_pa_task2.txt\", \"w\") as fout:\n",
    "        fout.write(\" \".join([str(el) for el in [dict_size_before, dict_size_after, corpus_size_before, corpus_size_after]]))\n",
    "        \n",
    "save_answers2(dict_size_before, dict_size_after, corpus_size_before, corpus_size_after)"
   ]
  },
  {
   "cell_type": "markdown",
   "metadata": {},
   "source": [
    "### Сравнение когерентностей\n",
    "__Задание 3.__ Постройте еще одну модель по корпусу corpus2 и словарю dictionary2, остальные параметры оставьте такими же, как при первом построении модели. Сохраните новую модель в другую переменную (не перезаписывайте предыдущую модель). Не забудьте про фиксирование seed!\n",
    "\n",
    "Затем воспользуйтесь методом *top_topics* модели, чтобы вычислить ее когерентность. Передайте в качестве аргумента соответствующий модели корпус. Метод вернет список кортежей (топ токенов, когерентность), отсортированных по убыванию последней. Вычислите среднюю по всем темам когерентность для каждой из двух моделей и передайте в функцию save_answers3. "
   ]
  },
  {
   "cell_type": "code",
   "execution_count": 14,
   "metadata": {},
   "outputs": [],
   "source": [
    "np.random.seed(76543)\n",
    "lda2 = models.LdaModel(corpus2, num_topics=40, alpha='auto', passes=5, id2word=dictionary2)"
   ]
  },
  {
   "cell_type": "code",
   "execution_count": 15,
   "metadata": {},
   "outputs": [],
   "source": [
    "np.random.seed(76543)\n",
    "coher = lda.top_topics(corpus=corpus)\n",
    "coherence = np.mean([coher[i][1] for i in range(len(coher))])"
   ]
  },
  {
   "cell_type": "code",
   "execution_count": 16,
   "metadata": {},
   "outputs": [],
   "source": [
    "np.random.seed(76543)\n",
    "coher2 = lda2.top_topics(corpus=corpus2)\n",
    "coherence2 = np.mean([coher2[i][1] for i in range(len(coher2))])"
   ]
  },
  {
   "cell_type": "code",
   "execution_count": 17,
   "metadata": {
    "scrolled": true
   },
   "outputs": [
    {
     "name": "stdout",
     "output_type": "stream",
     "text": [
      "-697.5779436709196 -754.8549321745343\n"
     ]
    }
   ],
   "source": [
    "def save_answers3(coherence, coherence2):\n",
    "    with open(\"cooking_LDA_pa_task3.txt\", \"w\") as fout:\n",
    "        fout.write(\" \".join([\"%3f\"%el for el in [coherence, coherence2]]))\n",
    "\n",
    "print coherence, coherence2\n",
    "save_answers3(coherence, coherence2)"
   ]
  },
  {
   "cell_type": "code",
   "execution_count": 18,
   "metadata": {},
   "outputs": [],
   "source": [
    "# -6.020748522294738 -8.551173832956861\n",
    "# -6.059810730615122 -8.474830154062124"
   ]
  },
  {
   "cell_type": "markdown",
   "metadata": {},
   "source": [
    "Считается, что когерентность хорошо соотносится с человеческими оценками интерпретируемости тем. Поэтому на больших текстовых коллекциях когерентность обычно повышается, если убрать фоновую лексику. Однако в нашем случае этого не произошло. "
   ]
  },
  {
   "cell_type": "markdown",
   "metadata": {},
   "source": [
    "### Изучение влияния гиперпараметра alpha"
   ]
  },
  {
   "cell_type": "markdown",
   "metadata": {},
   "source": [
    "В этом разделе мы будем работать со второй моделью, то есть той, которая построена по сокращенному корпусу. \n",
    "\n",
    "Пока что мы посмотрели только на матрицу темы-слова, теперь давайте посмотрим на матрицу темы-документы. Выведите темы для нулевого (или любого другого) документа из корпуса, воспользовавшись методом *get_document_topics* второй модели:"
   ]
  },
  {
   "cell_type": "code",
   "execution_count": 29,
   "metadata": {
    "scrolled": true
   },
   "outputs": [
    {
     "data": {
      "text/plain": [
       "[(1, 0.012503510854161364),\n",
       " (4, 0.11337052686228413),\n",
       " (15, 0.28331255589948245),\n",
       " (22, 0.24002884463380275),\n",
       " (37, 0.1409385160554612)]"
      ]
     },
     "execution_count": 29,
     "metadata": {},
     "output_type": "execute_result"
    }
   ],
   "source": [
    "lda2.get_document_topics(corpus2[0])"
   ]
  },
  {
   "cell_type": "markdown",
   "metadata": {},
   "source": [
    "Также выведите содержимое переменной *.alpha* второй модели:"
   ]
  },
  {
   "cell_type": "code",
   "execution_count": 30,
   "metadata": {
    "scrolled": true
   },
   "outputs": [
    {
     "data": {
      "text/plain": [
       "array([0.0755497 , 0.11649656, 0.03673677, 0.08744294, 0.05628547,\n",
       "       0.03961893, 0.06974457, 0.03999934, 0.06901437, 0.0645146 ,\n",
       "       0.04862207, 0.05129925, 0.05380997, 0.03987077, 0.03863604,\n",
       "       0.04868047, 0.0431067 , 0.05410289, 0.06096705, 0.06717641,\n",
       "       0.06844566, 0.04446868, 0.07620045, 0.04278582, 0.05131671,\n",
       "       0.03771764, 0.06536345, 0.04331415, 0.03489717, 0.04832799,\n",
       "       0.04898404, 0.04126891, 0.04133476, 0.08912861, 0.07194725,\n",
       "       0.06695452, 0.07749374, 0.06430143, 0.08810276, 0.05307958])"
      ]
     },
     "execution_count": 30,
     "metadata": {},
     "output_type": "execute_result"
    }
   ],
   "source": [
    "lda2.alpha"
   ]
  },
  {
   "cell_type": "markdown",
   "metadata": {},
   "source": [
    "У вас должно получиться, что документ характеризуется небольшим числом тем. Попробуем поменять гиперпараметр alpha, задающий априорное распределение Дирихле для распределений тем в документах."
   ]
  },
  {
   "cell_type": "markdown",
   "metadata": {},
   "source": [
    "__Задание 4.__ Обучите третью модель: используйте сокращенный корпус (corpus2 и dictionary2) и установите параметр __alpha=1__, passes=5. Не забудьте про фиксацию seed! Выведите темы новой модели для нулевого документа; должно получиться, что распределение над множеством тем практически равномерное. Чтобы убедиться в том, что во второй модели документы описываются гораздо более разреженными распределениями, чем в третьей, посчитайте суммарное количество элементов, __превосходящих 0.01__, в матрицах темы-документы обеих моделей. Другими словами, запросите темы  модели для каждого документа с параметром *minimum_probability=0.01* и просуммируйте число элементов в получаемых массивах. Передайте две суммы (сначала для модели с alpha по умолчанию, затем для модели в alpha=1) в функцию save_answers4."
   ]
  },
  {
   "cell_type": "code",
   "execution_count": 54,
   "metadata": {},
   "outputs": [
    {
     "data": {
      "text/plain": [
       "'2.3.0'"
      ]
     },
     "execution_count": 54,
     "metadata": {},
     "output_type": "execute_result"
    }
   ],
   "source": [
    "import gensim\n",
    "gensim.__version__"
   ]
  },
  {
   "cell_type": "code",
   "execution_count": 60,
   "metadata": {
    "scrolled": true
   },
   "outputs": [],
   "source": [
    "lda2 = models.LdaModel(corpus2, num_topics=40, passes=5, id2word=dictionary)\n",
    "count_model2 = sum([len(lda2.get_document_topics(doc, minimum_probability=0.01)) for doc in corpus2])"
   ]
  },
  {
   "cell_type": "code",
   "execution_count": 61,
   "metadata": {},
   "outputs": [],
   "source": [
    "lda3 = models.LdaModel(corpus2, num_topics=40, alpha=1, passes=5, id2word=dictionary2)\n",
    "count_model3 = sum([len(lda3.get_document_topics(doc, minimum_probability=0.01)) for doc in corpus2])"
   ]
  },
  {
   "cell_type": "code",
   "execution_count": 62,
   "metadata": {},
   "outputs": [
    {
     "name": "stdout",
     "output_type": "stream",
     "text": [
      "204184 1590960\n"
     ]
    }
   ],
   "source": [
    "def save_answers4(count_model2, count_model3):\n",
    "    with open(\"cooking_LDA_pa_task4.txt\", \"w\") as fout:\n",
    "        fout.write(\" \".join([str(el) for el in [count_model2, count_model3]]))\n",
    "print count_model2, count_model3\n",
    "save_answers4(count_model2, count_model3)"
   ]
  },
  {
   "cell_type": "markdown",
   "metadata": {},
   "source": [
    "Таким образом, гиперпараметр __alpha__ влияет на разреженность распределений тем в документах. Аналогично гиперпараметр __eta__ влияет на разреженность распределений слов в темах."
   ]
  },
  {
   "cell_type": "markdown",
   "metadata": {},
   "source": [
    "### LDA как способ понижения размерности\n",
    "Иногда, распределения над темами, найденные с помощью LDA, добавляют в матрицу объекты-признаки как дополнительные, семантические, признаки, и это может улучшить качество решения задачи. Для простоты давайте просто обучим классификатор рецептов на кухни на признаках, полученных из LDA, и измерим точность (accuracy).\n",
    "\n",
    "__Задание 5.__ Используйте модель, построенную по сокращенной выборке с alpha по умолчанию (вторую модель). Составьте матрицу $\\Theta = p(t|d)$ вероятностей тем в документах; вы можете использовать тот же метод get_document_topics, а также вектор правильных ответов y (в том же порядке, в котором рецепты идут в переменной recipes). Создайте объект RandomForestClassifier со 100 деревьями, с помощью функции cross_val_score вычислите среднюю accuracy по трем фолдам (перемешивать данные не нужно) и передайте в функцию save_answers5."
   ]
  },
  {
   "cell_type": "code",
   "execution_count": 20,
   "metadata": {},
   "outputs": [
    {
     "name": "stderr",
     "output_type": "stream",
     "text": [
      "/Users/roman/py2/lib/python2.7/site-packages/sklearn/cross_validation.py:41: DeprecationWarning: This module was deprecated in version 0.18 in favor of the model_selection module into which all the refactored classes and functions are moved. Also note that the interface of the new CV iterators are different from that of this module. This module will be removed in 0.20.\n",
      "  \"This module will be removed in 0.20.\", DeprecationWarning)\n"
     ]
    }
   ],
   "source": [
    "from sklearn.ensemble import RandomForestClassifier\n",
    "from sklearn.cross_validation import cross_val_score"
   ]
  },
  {
   "cell_type": "code",
   "execution_count": 76,
   "metadata": {},
   "outputs": [],
   "source": [
    "lda2 = models.LdaModel(corpus2, num_topics=40, passes=5, id2word=dictionary2)\n",
    "\n",
    "teta = np.zeros((len(corpus2), 40))\n",
    "for index, bow in enumerate(corpus2):\n",
    "    for topic, proba in lda2.get_document_topics(bow):\n",
    "        teta[index, topic] = proba\n",
    "        \n",
    "y = [recipe['cuisine'] for recipe in recipes] "
   ]
  },
  {
   "cell_type": "code",
   "execution_count": 77,
   "metadata": {},
   "outputs": [],
   "source": [
    "model = RandomForestClassifier(n_estimators=100)\n",
    "accuracy = cross_val_score(model, teta, y)"
   ]
  },
  {
   "cell_type": "code",
   "execution_count": 78,
   "metadata": {},
   "outputs": [
    {
     "data": {
      "text/plain": [
       "array([0.55055417, 0.55064485, 0.55795352])"
      ]
     },
     "execution_count": 78,
     "metadata": {},
     "output_type": "execute_result"
    }
   ],
   "source": [
    "accuracy"
   ]
  },
  {
   "cell_type": "code",
   "execution_count": 79,
   "metadata": {},
   "outputs": [],
   "source": [
    "def save_answers5(accuracy):\n",
    "     with open(\"cooking_LDA_pa_task5.txt\", \"w\") as fout:\n",
    "        fout.write(str(accuracy))"
   ]
  },
  {
   "cell_type": "code",
   "execution_count": 80,
   "metadata": {},
   "outputs": [],
   "source": [
    "save_answers5(accuracy.mean())"
   ]
  },
  {
   "cell_type": "markdown",
   "metadata": {},
   "source": [
    "Для такого большого количества классов это неплохая точность. Вы можете попроовать обучать RandomForest на исходной матрице частот слов, имеющей значительно большую размерность, и увидеть, что accuracy увеличивается на 10–15%. Таким образом, LDA собрал не всю, но достаточно большую часть информации из выборки, в матрице низкого ранга."
   ]
  },
  {
   "cell_type": "markdown",
   "metadata": {},
   "source": [
    "### LDA — вероятностная модель\n",
    "Матричное разложение, использующееся в LDA, интерпретируется как следующий процесс генерации документов.\n",
    "\n",
    "Для документа $d$ длины $n_d$:\n",
    "1. Из априорного распределения Дирихле с параметром alpha сгенерировать распределение над множеством тем: $\\theta_d \\sim Dirichlet(\\alpha)$\n",
    "1. Для каждого слова $w = 1, \\dots, n_d$:\n",
    "    1. Сгенерировать тему из дискретного распределения $t \\sim \\theta_{d}$\n",
    "    1. Сгенерировать слово из дискретного распределения $w \\sim \\phi_{t}$.\n",
    "    \n",
    "Подробнее об этом в [Википедии](https://en.wikipedia.org/wiki/Latent_Dirichlet_allocation).\n",
    "\n",
    "В контексте нашей задачи получается, что, используя данный генеративный процесс, можно создавать новые рецепты. Вы можете передать в функцию модель и число ингредиентов и сгенерировать рецепт :)"
   ]
  },
  {
   "cell_type": "code",
   "execution_count": 22,
   "metadata": {},
   "outputs": [],
   "source": [
    "def generate_recipe(model, num_ingredients):\n",
    "    theta = np.random.dirichlet(model.alpha)\n",
    "    for i in range(num_ingredients):\n",
    "        t = np.random.choice(np.arange(model.num_topics), p=theta)\n",
    "        topic = model.show_topic(t, topn=model.num_terms)\n",
    "        topic_distr = [x[1] for x in topic]\n",
    "        terms = [x[0] for x in topic]\n",
    "        w = np.random.choice(terms, p=topic_distr)\n",
    "        print w"
   ]
  },
  {
   "cell_type": "code",
   "execution_count": null,
   "metadata": {},
   "outputs": [],
   "source": []
  },
  {
   "cell_type": "markdown",
   "metadata": {},
   "source": [
    "### Интерпретация построенной модели\n",
    "Вы можете рассмотреть топы ингредиентов каждой темы. Большиснтво тем сами по себе похожи на рецепты; в некоторых собираются продукты одного вида, например, свежие фрукты или разные виды сыра.\n",
    "\n",
    "Попробуем эмпирически соотнести наши темы с национальными кухнями (cuisine). Построим матрицу $A$ размера темы $x$ кухни, ее элементы $a_{tc}$ — суммы $p(t|d)$ по всем документам $d$, которые отнесены к кухне $c$. Нормируем матрицу на частоты рецептов по разным кухням, чтобы избежать дисбаланса между кухнями. Следующая функция получает на вход объект модели, объект корпуса и исходные данные и возвращает нормированную матрицу $A$. Ее удобно визуализировать с помощью seaborn."
   ]
  },
  {
   "cell_type": "code",
   "execution_count": 23,
   "metadata": {},
   "outputs": [],
   "source": [
    "import pandas\n",
    "import seaborn\n",
    "from matplotlib import pyplot as plt\n",
    "%matplotlib inline"
   ]
  },
  {
   "cell_type": "code",
   "execution_count": 24,
   "metadata": {},
   "outputs": [],
   "source": [
    "def compute_topic_cuisine_matrix(model, corpus, recipes):\n",
    "    # составляем вектор целевых признаков\n",
    "    targets = list(set([recipe[\"cuisine\"] for recipe in recipes]))\n",
    "    # составляем матрицу\n",
    "    tc_matrix = pandas.DataFrame(data=np.zeros((model.num_topics, len(targets))), columns=targets)\n",
    "    for recipe, bow in zip(recipes, corpus):\n",
    "        recipe_topic = model.get_document_topics(bow)\n",
    "        for t, prob in recipe_topic:\n",
    "            tc_matrix[recipe[\"cuisine\"]][t] += prob\n",
    "    # нормируем матрицу\n",
    "    target_sums = pandas.DataFrame(data=np.zeros((1, len(targets))), columns=targets)\n",
    "    for recipe in recipes:\n",
    "        target_sums[recipe[\"cuisine\"]] += 1\n",
    "    return pandas.DataFrame(tc_matrix.values/target_sums.values, columns=tc_matrix.columns)"
   ]
  },
  {
   "cell_type": "code",
   "execution_count": 25,
   "metadata": {},
   "outputs": [],
   "source": [
    "def plot_matrix(tc_matrix):\n",
    "    plt.figure(figsize=(10, 10))\n",
    "    seaborn.heatmap(tc_matrix, square=True)"
   ]
  },
  {
   "cell_type": "code",
   "execution_count": 26,
   "metadata": {},
   "outputs": [],
   "source": [
    "# Визуализируйте матрицу\n"
   ]
  },
  {
   "cell_type": "markdown",
   "metadata": {},
   "source": [
    "Чем темнее квадрат в матрице, тем больше связь этой темы с данной кухней. Мы видим, что у нас есть темы, которые связаны с несколькими кухнями. Такие темы показывают набор ингредиентов, которые популярны в кухнях нескольких народов, то есть указывают на схожесть кухонь этих народов. Некоторые темы распределены по всем кухням равномерно, они показывают наборы продуктов, которые часто используются в кулинарии всех стран. "
   ]
  },
  {
   "cell_type": "markdown",
   "metadata": {},
   "source": [
    "Жаль, что в датасете нет названий рецептов, иначе темы было бы проще интерпретировать..."
   ]
  },
  {
   "cell_type": "markdown",
   "metadata": {},
   "source": [
    "### Заключение\n",
    "В этом задании вы построили несколько моделей LDA, посмотрели, на что влияют гиперпараметры модели и как можно использовать построенную модель. "
   ]
  }
 ],
 "metadata": {
  "kernelspec": {
   "display_name": "Python 2",
   "language": "python",
   "name": "python2"
  },
  "language_info": {
   "codemirror_mode": {
    "name": "ipython",
    "version": 2
   },
   "file_extension": ".py",
   "mimetype": "text/x-python",
   "name": "python",
   "nbconvert_exporter": "python",
   "pygments_lexer": "ipython2",
   "version": "2.7.10"
  }
 },
 "nbformat": 4,
 "nbformat_minor": 1
}
